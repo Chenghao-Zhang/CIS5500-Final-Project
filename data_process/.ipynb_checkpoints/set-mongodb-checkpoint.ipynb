{
 "cells": [
  {
   "cell_type": "code",
   "execution_count": null,
   "id": "a5ccea76",
   "metadata": {},
   "outputs": [],
   "source": [
    "from pymongo import MongoClient"
   ]
  },
  {
   "cell_type": "code",
   "execution_count": null,
   "id": "53998547",
   "metadata": {},
   "outputs": [],
   "source": [
    "path = \"./yelp_csv_dataset/yelp_academic_dataset_user.csv\""
   ]
  },
  {
   "cell_type": "code",
   "execution_count": null,
   "id": "e941ff85",
   "metadata": {},
   "outputs": [],
   "source": [
    "client = MongoClient('mongodb://localhost:27017/')\n",
    "db = client['CIS5500-mangodb']\n",
    "collection = db['users']\n",
    "i = 0\n",
    "with open(path, 'r', encoding='utf-8') as file:\n",
    "    reader = csv.DictReader(file)\n",
    "    for row in reader:\n",
    "        friends_list = [friend.strip() for friend in row['friends'].split(',')]\n",
    "        collection.insert_one({'user_id': row['user_id'], 'name' : row['name'], 'friends': friends_list})\n",
    "        i += 1\n",
    "        if i % 10000 == 0:\n",
    "            print(i)"
   ]
  }
 ],
 "metadata": {
  "kernelspec": {
   "display_name": "Python 3",
   "language": "python",
   "name": "python3"
  },
  "language_info": {
   "codemirror_mode": {
    "name": "ipython",
    "version": 3
   },
   "file_extension": ".py",
   "mimetype": "text/x-python",
   "name": "python",
   "nbconvert_exporter": "python",
   "pygments_lexer": "ipython3",
   "version": "3.6.13"
  }
 },
 "nbformat": 4,
 "nbformat_minor": 5
}
