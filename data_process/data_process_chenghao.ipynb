{
 "cells": [
  {
   "cell_type": "code",
   "execution_count": 18,
   "id": "8284b134-1873-4a72-86ab-4dd84de330bc",
   "metadata": {},
   "outputs": [],
   "source": [
    "import pandas as pd"
   ]
  },
  {
   "cell_type": "code",
   "execution_count": 28,
   "id": "5c796c5a-080b-485f-917a-e04aed9e2659",
   "metadata": {},
   "outputs": [],
   "source": [
    "# data processing for locations.csv\n",
    "parent_path = \"/Users/zch/Desktop/GitHub/yelp_dataset/cis5500_dataset/\"\n",
    "airbnb = pd.read_csv(parent_path + 'Airbnb/Airbnb_Data.csv')\n",
    "yelp = pd.read_csv(parent_path + 'yelp_csv_dataset/yelp_academic_dataset_business.csv')\n",
    "city_abbr_state = pd.read_csv(parent_path + 'city_abbr_state.csv')"
   ]
  },
  {
   "cell_type": "code",
   "execution_count": 29,
   "id": "3bc204c0-7e2f-423c-9ad1-e0c63a52c5ea",
   "metadata": {},
   "outputs": [],
   "source": [
    "airbnb['address'] = airbnb['zipcode'] + ' ' + airbnb['neighbourhood']\n",
    "airbnb = airbnb.merge(city_abbr_state, left_on='city', right_on='city_ab', how='left')\n",
    "airbnb = airbnb[['latitude', 'longitude', 'address', 'city_full', 'state']]\n",
    "airbnb.rename(columns={'city_full': 'city'}, inplace=True)\n",
    "yelp = yelp[['latitude', 'longitude', 'address', 'city', 'state']]"
   ]
  },
  {
   "cell_type": "code",
   "execution_count": 30,
   "id": "755dbc31-76bc-4167-a734-bd3445ec5cfd",
   "metadata": {},
   "outputs": [
    {
     "data": {
      "text/html": [
       "<div>\n",
       "<style scoped>\n",
       "    .dataframe tbody tr th:only-of-type {\n",
       "        vertical-align: middle;\n",
       "    }\n",
       "\n",
       "    .dataframe tbody tr th {\n",
       "        vertical-align: top;\n",
       "    }\n",
       "\n",
       "    .dataframe thead th {\n",
       "        text-align: right;\n",
       "    }\n",
       "</style>\n",
       "<table border=\"1\" class=\"dataframe\">\n",
       "  <thead>\n",
       "    <tr style=\"text-align: right;\">\n",
       "      <th></th>\n",
       "      <th>latitude</th>\n",
       "      <th>longitude</th>\n",
       "      <th>address</th>\n",
       "      <th>city</th>\n",
       "      <th>state</th>\n",
       "    </tr>\n",
       "  </thead>\n",
       "  <tbody>\n",
       "    <tr>\n",
       "      <th>0</th>\n",
       "      <td>40.696524</td>\n",
       "      <td>-73.991617</td>\n",
       "      <td>11201 Brooklyn Heights</td>\n",
       "      <td>New York</td>\n",
       "      <td>NJ</td>\n",
       "    </tr>\n",
       "    <tr>\n",
       "      <th>1</th>\n",
       "      <td>40.766115</td>\n",
       "      <td>-73.989040</td>\n",
       "      <td>10019 Hell's Kitchen</td>\n",
       "      <td>New York</td>\n",
       "      <td>NJ</td>\n",
       "    </tr>\n",
       "    <tr>\n",
       "      <th>2</th>\n",
       "      <td>40.808110</td>\n",
       "      <td>-73.943756</td>\n",
       "      <td>10027 Harlem</td>\n",
       "      <td>New York</td>\n",
       "      <td>NJ</td>\n",
       "    </tr>\n",
       "    <tr>\n",
       "      <th>3</th>\n",
       "      <td>37.772004</td>\n",
       "      <td>-122.431619</td>\n",
       "      <td>94117.0 Lower Haight</td>\n",
       "      <td>San Francisco</td>\n",
       "      <td>CA</td>\n",
       "    </tr>\n",
       "    <tr>\n",
       "      <th>4</th>\n",
       "      <td>38.925627</td>\n",
       "      <td>-77.034596</td>\n",
       "      <td>20009 Columbia Heights</td>\n",
       "      <td>Washington D.C.</td>\n",
       "      <td>WA</td>\n",
       "    </tr>\n",
       "  </tbody>\n",
       "</table>\n",
       "</div>"
      ],
      "text/plain": [
       "    latitude   longitude                 address             city state\n",
       "0  40.696524  -73.991617  11201 Brooklyn Heights         New York    NJ\n",
       "1  40.766115  -73.989040    10019 Hell's Kitchen         New York    NJ\n",
       "2  40.808110  -73.943756            10027 Harlem         New York    NJ\n",
       "3  37.772004 -122.431619    94117.0 Lower Haight    San Francisco    CA\n",
       "4  38.925627  -77.034596  20009 Columbia Heights  Washington D.C.    WA"
      ]
     },
     "execution_count": 30,
     "metadata": {},
     "output_type": "execute_result"
    }
   ],
   "source": [
    "airbnb[:5]"
   ]
  },
  {
   "cell_type": "code",
   "execution_count": 31,
   "id": "1da5be0d-5053-4439-be78-935b6d3b0d1f",
   "metadata": {},
   "outputs": [
    {
     "data": {
      "text/html": [
       "<div>\n",
       "<style scoped>\n",
       "    .dataframe tbody tr th:only-of-type {\n",
       "        vertical-align: middle;\n",
       "    }\n",
       "\n",
       "    .dataframe tbody tr th {\n",
       "        vertical-align: top;\n",
       "    }\n",
       "\n",
       "    .dataframe thead th {\n",
       "        text-align: right;\n",
       "    }\n",
       "</style>\n",
       "<table border=\"1\" class=\"dataframe\">\n",
       "  <thead>\n",
       "    <tr style=\"text-align: right;\">\n",
       "      <th></th>\n",
       "      <th>latitude</th>\n",
       "      <th>longitude</th>\n",
       "      <th>address</th>\n",
       "      <th>city</th>\n",
       "      <th>state</th>\n",
       "    </tr>\n",
       "  </thead>\n",
       "  <tbody>\n",
       "    <tr>\n",
       "      <th>0</th>\n",
       "      <td>34.426679</td>\n",
       "      <td>-119.711197</td>\n",
       "      <td>1616 Chapala St, Ste 2</td>\n",
       "      <td>Santa Barbara</td>\n",
       "      <td>CA</td>\n",
       "    </tr>\n",
       "    <tr>\n",
       "      <th>1</th>\n",
       "      <td>38.551126</td>\n",
       "      <td>-90.335695</td>\n",
       "      <td>87 Grasso Plaza Shopping Center</td>\n",
       "      <td>Affton</td>\n",
       "      <td>MO</td>\n",
       "    </tr>\n",
       "    <tr>\n",
       "      <th>2</th>\n",
       "      <td>32.223236</td>\n",
       "      <td>-110.880452</td>\n",
       "      <td>5255 E Broadway Blvd</td>\n",
       "      <td>Tucson</td>\n",
       "      <td>AZ</td>\n",
       "    </tr>\n",
       "    <tr>\n",
       "      <th>3</th>\n",
       "      <td>39.955505</td>\n",
       "      <td>-75.155564</td>\n",
       "      <td>935 Race St</td>\n",
       "      <td>Philadelphia</td>\n",
       "      <td>PA</td>\n",
       "    </tr>\n",
       "    <tr>\n",
       "      <th>4</th>\n",
       "      <td>40.338183</td>\n",
       "      <td>-75.471659</td>\n",
       "      <td>101 Walnut St</td>\n",
       "      <td>Green Lane</td>\n",
       "      <td>PA</td>\n",
       "    </tr>\n",
       "  </tbody>\n",
       "</table>\n",
       "</div>"
      ],
      "text/plain": [
       "    latitude   longitude                          address           city state\n",
       "0  34.426679 -119.711197           1616 Chapala St, Ste 2  Santa Barbara    CA\n",
       "1  38.551126  -90.335695  87 Grasso Plaza Shopping Center         Affton    MO\n",
       "2  32.223236 -110.880452             5255 E Broadway Blvd         Tucson    AZ\n",
       "3  39.955505  -75.155564                      935 Race St   Philadelphia    PA\n",
       "4  40.338183  -75.471659                    101 Walnut St     Green Lane    PA"
      ]
     },
     "execution_count": 31,
     "metadata": {},
     "output_type": "execute_result"
    }
   ],
   "source": [
    "yelp[:5]"
   ]
  },
  {
   "cell_type": "code",
   "execution_count": 32,
   "id": "09d95b33-b63e-4faa-95bb-d04e357f4272",
   "metadata": {},
   "outputs": [],
   "source": [
    "combined_data = pd.concat([yelp, airbnb])\n",
    "combined_data.drop_duplicates(subset=['latitude', 'longitude'], inplace=True)\n",
    "combined_data.to_csv(parent_path + 'clean_dataset/locations.csv', index=False)"
   ]
  },
  {
   "cell_type": "code",
   "execution_count": null,
   "id": "52853ab0-f71b-476d-a7b5-211d9073144f",
   "metadata": {},
   "outputs": [],
   "source": []
  },
  {
   "cell_type": "code",
   "execution_count": null,
   "id": "c82dd12e-aa9e-47de-a506-c4c184fa0570",
   "metadata": {},
   "outputs": [],
   "source": []
  },
  {
   "cell_type": "code",
   "execution_count": null,
   "id": "cb0cbdb4-087b-424a-8cbe-c9bbb9fed36b",
   "metadata": {},
   "outputs": [],
   "source": [
    "# dataprocess for category.csv"
   ]
  },
  {
   "cell_type": "code",
   "execution_count": 33,
   "id": "3d2e506a-f838-407f-9476-4662a1ddb57b",
   "metadata": {},
   "outputs": [],
   "source": [
    "categories_df = pd.read_csv(parent_path + 'clean_dataset/category.csv')\n",
    "categories_df['categories'] = categories_df['categories'].str.split(', ')\n",
    "exploded_df = categories_df.explode('categories')\n",
    "exploded_df.rename(columns={'categories': 'category'}, inplace=True)\n",
    "exploded_df.drop_duplicates(subset=['business_id', 'category'], inplace=True)\n",
    "exploded_df.to_csv(parent_path + 'clean_dataset/exploded_category.csv', index=False)"
   ]
  },
  {
   "cell_type": "code",
   "execution_count": null,
   "id": "b383ce01-2b3b-4829-95e1-35e870b2c9cc",
   "metadata": {},
   "outputs": [],
   "source": []
  },
  {
   "cell_type": "code",
   "execution_count": 34,
   "id": "412b4eb6-27e0-41d8-8f0c-82a344a08ecc",
   "metadata": {},
   "outputs": [],
   "source": [
    "photos_df = pd.read_csv(parent_path + 'clean_dataset/photos_business.csv')\n",
    "photos_df['file_path'] = '/photos/' + photos_df['photo_id'] + '.jpg'\n",
    "photos_df.to_csv(parent_path + 'clean_dataset/updated_photos_business.csv', index=False)"
   ]
  },
  {
   "cell_type": "code",
   "execution_count": null,
   "id": "025a035c-6ea1-4ec9-8a1b-a05c6da42787",
   "metadata": {},
   "outputs": [],
   "source": []
  },
  {
   "cell_type": "code",
   "execution_count": null,
   "id": "134733b7-a79b-4f59-8dd5-97794338c4ee",
   "metadata": {},
   "outputs": [],
   "source": []
  },
  {
   "cell_type": "code",
   "execution_count": null,
   "id": "ec57eb21-f4e5-4a30-8e09-536cfb8162ad",
   "metadata": {},
   "outputs": [],
   "source": []
  },
  {
   "cell_type": "code",
   "execution_count": null,
   "id": "d161e5f4-f154-40b1-bcee-d83bf4c439d6",
   "metadata": {},
   "outputs": [],
   "source": []
  }
 ],
 "metadata": {
  "kernelspec": {
   "display_name": "Python python_study",
   "language": "python",
   "name": "python_study"
  },
  "language_info": {
   "codemirror_mode": {
    "name": "ipython",
    "version": 3
   },
   "file_extension": ".py",
   "mimetype": "text/x-python",
   "name": "python",
   "nbconvert_exporter": "python",
   "pygments_lexer": "ipython3",
   "version": "3.9.7"
  }
 },
 "nbformat": 4,
 "nbformat_minor": 5
}
